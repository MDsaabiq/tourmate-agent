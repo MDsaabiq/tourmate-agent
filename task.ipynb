{
 "cells": [
  {
   "cell_type": "code",
   "execution_count": 1,
   "id": "b83a2762",
   "metadata": {},
   "outputs": [],
   "source": [
    "import os\n",
    "from typing import TypedDict, Annotated, List\n",
    "from langgraph.graph import StateGraph, END\n",
    "from langchain_core.messages import HumanMessage, AIMessage\n",
    "from langchain_core.prompts import ChatPromptTemplate\n",
    "from langchain_core.runnables.graph import MermaidDrawMethod\n",
    "from IPython.display import display, Image"
   ]
  },
  {
   "cell_type": "code",
   "execution_count": 12,
   "id": "02666735",
   "metadata": {},
   "outputs": [],
   "source": [
    "class PlannerState(TypedDict):\n",
    "    messages : Annotated[List[HumanMessage | AIMessage],\"the messages in conversation\"]\n",
    "    city: str\n",
    "    interests: List[str]\n",
    "    itinerary: str"
   ]
  },
  {
   "cell_type": "code",
   "execution_count": 3,
   "id": "dcdc8a1d",
   "metadata": {},
   "outputs": [
    {
     "ename": "NameError",
     "evalue": "name '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' is not defined",
     "output_type": "error",
     "traceback": [
      "\u001b[31m---------------------------------------------------------------------------\u001b[39m",
      "\u001b[31mNameError\u001b[39m                                 Traceback (most recent call last)",
      "\u001b[36mCell\u001b[39m\u001b[36m \u001b[39m\u001b[32mIn[3]\u001b[39m\u001b[32m, line 1\u001b[39m\n\u001b[32m----> \u001b[39m\u001b[32m1\u001b[39m \u001b[43mgsk_lyIJ0ypSrwmRPjMhzO9PWGdyb3FYICfqw1VYwD8KudsCV66pQtb2\u001b[49m\n",
      "\u001b[31mNameError\u001b[39m: name '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' is not defined"
     ]
    }
   ],
   "source": [
    "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"
   ]
  },
  {
   "cell_type": "code",
   "execution_count": 5,
   "id": "1ce1f28d",
   "metadata": {},
   "outputs": [],
   "source": [
    "from langchain_groq import ChatGroq\n",
    "llm = ChatGroq(\n",
    "    temperature = 0,\n",
    "    groq_api_key = \"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\",\n",
    "    model_name = \"llama-3.3-70b-versatile\"\n",
    ")\n",
    "# llm.invoke('what is multi ai agents')"
   ]
  },
  {
   "cell_type": "code",
   "execution_count": 11,
   "id": "0aaa679f",
   "metadata": {},
   "outputs": [
    {
     "name": "stdout",
     "output_type": "stream",
     "text": [
      "Collecting langchain_groq\n",
      "  Using cached langchain_groq-0.3.6-py3-none-any.whl.metadata (2.6 kB)\n",
      "Requirement already satisfied: langchain-core<1.0.0,>=0.3.68 in c:\\users\\saabi\\appdata\\local\\programs\\python\\python313\\lib\\site-packages (from langchain_groq) (0.3.70)\n",
      "Collecting groq<1,>=0.29.0 (from langchain_groq)\n",
      "  Using cached groq-0.30.0-py3-none-any.whl.metadata (16 kB)\n",
      "Requirement already satisfied: anyio<5,>=3.5.0 in c:\\users\\saabi\\appdata\\local\\programs\\python\\python313\\lib\\site-packages (from groq<1,>=0.29.0->langchain_groq) (4.9.0)\n",
      "Requirement already satisfied: distro<2,>=1.7.0 in c:\\users\\saabi\\appdata\\local\\programs\\python\\python313\\lib\\site-packages (from groq<1,>=0.29.0->langchain_groq) (1.9.0)\n",
      "Requirement already satisfied: httpx<1,>=0.23.0 in c:\\users\\saabi\\appdata\\local\\programs\\python\\python313\\lib\\site-packages (from groq<1,>=0.29.0->langchain_groq) (0.28.1)\n",
      "Requirement already satisfied: pydantic<3,>=1.9.0 in c:\\users\\saabi\\appdata\\local\\programs\\python\\python313\\lib\\site-packages (from groq<1,>=0.29.0->langchain_groq) (2.11.7)\n",
      "Requirement already satisfied: sniffio in c:\\users\\saabi\\appdata\\local\\programs\\python\\python313\\lib\\site-packages (from groq<1,>=0.29.0->langchain_groq) (1.3.1)\n",
      "Requirement already satisfied: typing-extensions<5,>=4.10 in c:\\users\\saabi\\appdata\\local\\programs\\python\\python313\\lib\\site-packages (from groq<1,>=0.29.0->langchain_groq) (4.13.2)\n",
      "Requirement already satisfied: idna>=2.8 in c:\\users\\saabi\\appdata\\local\\programs\\python\\python313\\lib\\site-packages (from anyio<5,>=3.5.0->groq<1,>=0.29.0->langchain_groq) (3.10)\n",
      "Requirement already satisfied: certifi in c:\\users\\saabi\\appdata\\local\\programs\\python\\python313\\lib\\site-packages (from httpx<1,>=0.23.0->groq<1,>=0.29.0->langchain_groq) (2025.4.26)\n",
      "Requirement already satisfied: httpcore==1.* in c:\\users\\saabi\\appdata\\local\\programs\\python\\python313\\lib\\site-packages (from httpx<1,>=0.23.0->groq<1,>=0.29.0->langchain_groq) (1.0.9)\n",
      "Requirement already satisfied: h11>=0.16 in c:\\users\\saabi\\appdata\\local\\programs\\python\\python313\\lib\\site-packages (from httpcore==1.*->httpx<1,>=0.23.0->groq<1,>=0.29.0->langchain_groq) (0.16.0)\n",
      "Requirement already satisfied: langsmith>=0.3.45 in c:\\users\\saabi\\appdata\\local\\programs\\python\\python313\\lib\\site-packages (from langchain-core<1.0.0,>=0.3.68->langchain_groq) (0.4.8)\n",
      "Requirement already satisfied: tenacity!=8.4.0,<10.0.0,>=8.1.0 in c:\\users\\saabi\\appdata\\local\\programs\\python\\python313\\lib\\site-packages (from langchain-core<1.0.0,>=0.3.68->langchain_groq) (8.5.0)\n",
      "Requirement already satisfied: jsonpatch<2.0,>=1.33 in c:\\users\\saabi\\appdata\\local\\programs\\python\\python313\\lib\\site-packages (from langchain-core<1.0.0,>=0.3.68->langchain_groq) (1.33)\n",
      "Requirement already satisfied: PyYAML>=5.3 in c:\\users\\saabi\\appdata\\local\\programs\\python\\python313\\lib\\site-packages (from langchain-core<1.0.0,>=0.3.68->langchain_groq) (6.0.2)\n",
      "Requirement already satisfied: packaging>=23.2 in c:\\users\\saabi\\appdata\\local\\programs\\python\\python313\\lib\\site-packages (from langchain-core<1.0.0,>=0.3.68->langchain_groq) (24.2)\n",
      "Requirement already satisfied: jsonpointer>=1.9 in c:\\users\\saabi\\appdata\\local\\programs\\python\\python313\\lib\\site-packages (from jsonpatch<2.0,>=1.33->langchain-core<1.0.0,>=0.3.68->langchain_groq) (3.0.0)\n",
      "Requirement already satisfied: annotated-types>=0.6.0 in c:\\users\\saabi\\appdata\\local\\programs\\python\\python313\\lib\\site-packages (from pydantic<3,>=1.9.0->groq<1,>=0.29.0->langchain_groq) (0.7.0)\n",
      "Requirement already satisfied: pydantic-core==2.33.2 in c:\\users\\saabi\\appdata\\local\\programs\\python\\python313\\lib\\site-packages (from pydantic<3,>=1.9.0->groq<1,>=0.29.0->langchain_groq) (2.33.2)\n",
      "Requirement already satisfied: typing-inspection>=0.4.0 in c:\\users\\saabi\\appdata\\local\\programs\\python\\python313\\lib\\site-packages (from pydantic<3,>=1.9.0->groq<1,>=0.29.0->langchain_groq) (0.4.1)\n",
      "Requirement already satisfied: orjson<4.0.0,>=3.9.14 in c:\\users\\saabi\\appdata\\local\\programs\\python\\python313\\lib\\site-packages (from langsmith>=0.3.45->langchain-core<1.0.0,>=0.3.68->langchain_groq) (3.11.0)\n",
      "Requirement already satisfied: requests<3,>=2 in c:\\users\\saabi\\appdata\\local\\programs\\python\\python313\\lib\\site-packages (from langsmith>=0.3.45->langchain-core<1.0.0,>=0.3.68->langchain_groq) (2.32.3)\n",
      "Requirement already satisfied: requests-toolbelt<2.0.0,>=1.0.0 in c:\\users\\saabi\\appdata\\local\\programs\\python\\python313\\lib\\site-packages (from langsmith>=0.3.45->langchain-core<1.0.0,>=0.3.68->langchain_groq) (1.0.0)\n",
      "Requirement already satisfied: zstandard<0.24.0,>=0.23.0 in c:\\users\\saabi\\appdata\\local\\programs\\python\\python313\\lib\\site-packages (from langsmith>=0.3.45->langchain-core<1.0.0,>=0.3.68->langchain_groq) (0.23.0)\n",
      "Requirement already satisfied: charset-normalizer<4,>=2 in c:\\users\\saabi\\appdata\\local\\programs\\python\\python313\\lib\\site-packages (from requests<3,>=2->langsmith>=0.3.45->langchain-core<1.0.0,>=0.3.68->langchain_groq) (3.4.2)\n",
      "Requirement already satisfied: urllib3<3,>=1.21.1 in c:\\users\\saabi\\appdata\\local\\programs\\python\\python313\\lib\\site-packages (from requests<3,>=2->langsmith>=0.3.45->langchain-core<1.0.0,>=0.3.68->langchain_groq) (2.4.0)\n",
      "Using cached langchain_groq-0.3.6-py3-none-any.whl (16 kB)\n",
      "Using cached groq-0.30.0-py3-none-any.whl (131 kB)\n",
      "Installing collected packages: groq, langchain_groq\n",
      "\n",
      "   ---------------------------------------- 0/2 [groq]\n",
      "   ---------------------------------------- 2/2 [langchain_groq]\n",
      "\n",
      "Successfully installed groq-0.30.0 langchain_groq-0.3.6\n"
     ]
    }
   ],
   "source": [
    "!pip install langchain_groq"
   ]
  },
  {
   "cell_type": "code",
   "execution_count": 13,
   "id": "ca32ee0e",
   "metadata": {},
   "outputs": [],
   "source": [
    "itinerary_prompt = ChatPromptTemplate.from_messages([\n",
    "    (\"system\", \"You are a helpful travel assistant. Create a day trip itinerary for {city} based on the user's interests: {interests}. Provide a brief, bulleted itinerary.\"),\n",
    "    (\"human\", \"Create an itinerary for my trip day wise list in each day title ,location and discription.\"),\n",
    "])"
   ]
  },
  {
   "cell_type": "markdown",
   "id": "fa65374f",
   "metadata": {},
   "source": [
    "define agenet function"
   ]
  },
  {
   "cell_type": "code",
   "execution_count": 14,
   "id": "5f89035c",
   "metadata": {},
   "outputs": [],
   "source": [
    "def input_city(state: PlannerState) -> PlannerState:\n",
    "    print(\"please enter the city you want to visit for your day trip:\")\n",
    "    user_message = input('your input:')\n",
    "    return {\n",
    "        **state,\n",
    "        \"city\":user_message,\n",
    "        \"messages\":state['messages'] + [HumanMessage(content=user_message)],\n",
    "\n",
    "    }\n",
    "def input_interest(state: PlannerState) -> PlannerState:\n",
    "    print(f\"Please enter your interest for the trip to: {state['city']} (comma-separated): \")\n",
    "    user_message = input(\"Your Input: \")\n",
    "    return {\n",
    "        **state,\n",
    "        \"interests\": [interest.strip() for interest in user_message.split(\",\")],\n",
    "        \"messages\": state['messages'] + [HumanMessage(content=user_message)]\n",
    "    }\n",
    "\n",
    "def create_itinerary(state: PlannerState) -> PlannerState:\n",
    "    print(f\"Creating an itinerary for {state['city']} based on interests: {', '.join(state['interests'])}\")\n",
    "    response = llm.invoke(itinerary_prompt.format_messages(city=state['city'], interests=','.join(state['interests'])))\n",
    "    print(\"\\nFinal Itinerary: \")\n",
    "    print(response.content)\n",
    "    return {\n",
    "        **state,\n",
    "        \"messages\": state['messages'] + [AIMessage(content=response.content)],\n",
    "        \"itinerary\": response.content,\n",
    "    }"
   ]
  },
  {
   "cell_type": "markdown",
   "id": "3f74a0b4",
   "metadata": {},
   "source": [
    "create and compile workflow graph"
   ]
  },
  {
   "cell_type": "code",
   "execution_count": 15,
   "id": "92dc8e22",
   "metadata": {},
   "outputs": [],
   "source": [
    "workflow = StateGraph(PlannerState)\n",
    "\n",
    "workflow.add_node(\"input_city\",input_city)\n",
    "workflow.add_node(\"input_interest\",input_interest)\n",
    "workflow.add_node(\"create_itinerary\",create_itinerary)\n",
    "\n",
    "workflow.set_entry_point('input_city')\n",
    "\n",
    "workflow.add_edge(\"input_city\",\"input_interest\")\n",
    "workflow.add_edge('input_interest','create_itinerary')\n",
    "workflow.add_edge('create_itinerary',END)\n",
    "\n",
    "app = workflow.compile()"
   ]
  },
  {
   "cell_type": "markdown",
   "id": "8c346289",
   "metadata": {},
   "source": [
    "display the graph structure"
   ]
  },
  {
   "cell_type": "code",
   "execution_count": 16,
   "id": "5ae16fd1",
   "metadata": {},
   "outputs": [
    {
     "data": {
      "image/png": "[encoded data removed]",
      "text/plain": [
       "<IPython.core.display.Image object>"
      ]
     },
     "metadata": {},
     "output_type": "display_data"
    }
   ],
   "source": [
    "display(\n",
    "    Image(\n",
    "        app.get_graph().draw_mermaid_png(\n",
    "            draw_method=MermaidDrawMethod.API\n",
    "        )\n",
    "    )\n",
    ")"
   ]
  },
  {
   "cell_type": "markdown",
   "id": "318b820d",
   "metadata": {},
   "source": [
    "defining function that runs the graph"
   ]
  },
  {
   "cell_type": "code",
   "execution_count": 17,
   "id": "999e682c",
   "metadata": {},
   "outputs": [],
   "source": [
    "def travel_planner(user_request: str):\n",
    "    print(f\"Initial request {user_request}\\n\")\n",
    "    state = {\n",
    "        \"messages\":[HumanMessage(content=user_request)],\n",
    "        \"city\":\"\",\n",
    "        \"interests\":[],\n",
    "        \"itinerary\": \"\",\n",
    "    }\n",
    "    for output in app.stream(state):\n",
    "        pass"
   ]
  },
  {
   "cell_type": "code",
   "execution_count": 18,
   "id": "0d45d1b1",
   "metadata": {},
   "outputs": [
    {
     "name": "stdout",
     "output_type": "stream",
     "text": [
      "Initial request I want to plan a two day trip \n",
      "\n",
      "please enter the city you want to visit for your day trip:\n",
      "Please enter your interest for the trip to: delhi (comma-separated): \n",
      "Creating an itinerary for delhi based on interests: red ford, taj\n",
      "\n",
      "Final Itinerary: \n",
      "Here's a day trip itinerary for Delhi based on your interests in Red Fort and Taj Mahal:\n",
      "\n",
      "* **Day 1: Delhi Exploration**\n",
      "  * Location: Red Fort, Chandni Chowk\n",
      "  * Description: Start your day with a visit to the historic Red Fort, a UNESCO World Heritage Site. Explore the fort's impressive architecture, museums, and gardens. Afterward, take a stroll through the bustling streets of Chandni Chowk, one of the oldest markets in Delhi.\n",
      "\n",
      "* **Day 2: Taj Mahal Adventure**\n",
      "  * Location: Taj Mahal, Agra\n",
      "  * Description: Take a day trip to Agra to visit the breathtaking Taj Mahal, one of the Seven Wonders of the World. Learn about the monument's rich history and admire its stunning beauty. You can also explore other nearby attractions, such as the Agra Fort and Fatehpur Sikri.\n",
      "\n",
      "Note: Since the Taj Mahal is located in Agra, which is approximately 230 km from Delhi, you may want to consider leaving early in the morning to make the most of your day trip.\n"
     ]
    }
   ],
   "source": [
    "user_request = \"I want to plan a two day trip \"\n",
    "travel_planner(user_request)"
   ]
  },
  {
   "cell_type": "code",
   "execution_count": null,
   "id": "0eba357e",
   "metadata": {},
   "outputs": [],
   "source": []
  }
 ],
 "metadata": {
  "kernelspec": {
   "display_name": "Python 3",
   "language": "python",
   "name": "python3"
  },
  "language_info": {
   "codemirror_mode": {
    "name": "ipython",
    "version": 3
   },
   "file_extension": ".py",
   "mimetype": "text/x-python",
   "name": "python",
   "nbconvert_exporter": "python",
   "pygments_lexer": "ipython3",
   "version": "3.13.3"
  }
 },
 "nbformat": 4,
 "nbformat_minor": 5
}
